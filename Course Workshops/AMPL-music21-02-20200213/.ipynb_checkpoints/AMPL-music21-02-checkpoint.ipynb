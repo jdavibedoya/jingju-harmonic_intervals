{
 "cells": [
  {
   "cell_type": "markdown",
   "metadata": {},
   "source": [
    "## AMPL - Introduction to music21 (2)\n",
    "#### This notebook presents some new methods of music21, as well as specific characteristics of the jingju and makam scores."
   ]
  },
  {
   "cell_type": "code",
   "execution_count": 1,
   "metadata": {},
   "outputs": [],
   "source": [
    "from music21 import *"
   ]
  },
  {
   "cell_type": "markdown",
   "metadata": {},
   "source": [
    "### Working with jingju scores"
   ]
  },
  {
   "cell_type": "markdown",
   "metadata": {},
   "source": [
    "We are going to work with the vocal part of a jingju score. So let's save it in a variable `p`."
   ]
  },
  {
   "cell_type": "code",
   "execution_count": 2,
   "metadata": {},
   "outputs": [],
   "source": [
    "s = converter.parse('lseh-YiLunMing-WenZhaoGuan-1.xml')\n",
    "pp = s.parts # all the parts from the score\n",
    "p = pp[0] # in this score, the vocal part is the first one\n",
    "p.show()"
   ]
  },
  {
   "cell_type": "markdown",
   "metadata": {},
   "source": [
    "To work with the music, we should focus on the notes, which are contained in the measures. So let's retrive all measures and notes and save them respectively in the variables `mm` and `nn` using the `.getElementsByClass` method.\n",
    "<br/>\n",
    "As always, everything retrieved should be saved as a stream."
   ]
  },
  {
   "cell_type": "code",
   "execution_count": null,
   "metadata": {},
   "outputs": [],
   "source": [
    "mm = p.getElementsByClass(stream.Measure).stream() # all the measures from the part\n",
    "nn = p.getElementsByClass(note.Note).stream() # all the notes from the part\n",
    "print('Measures in the part:', len(mm))\n",
    "print('Notes in the part:', len(nn))"
   ]
  },
  {
   "cell_type": "markdown",
   "metadata": {},
   "source": [
    "As you can see, no notes were retrieved. This is due to the fact that notes are not contained in the part (`p`), but in each of its measures. So, in order to retrieve all the notes, we can apply the `.getElementsByClass` method in a for loop."
   ]
  },
  {
   "cell_type": "code",
   "execution_count": null,
   "metadata": {},
   "outputs": [],
   "source": [
    "nn = stream.Stream() # create a stream to store all the notes\n",
    "for m in mm:\n",
    "    for n in m.getElementsByClass(note.Note).stream():\n",
    "        nn.append(n)\n",
    "print('Notes in the part:', len(nn))"
   ]
  },
  {
   "cell_type": "markdown",
   "metadata": {},
   "source": [
    "Since working with notes is the goal of music21, it conveniently offers the `.notes` attribute precisely for that."
   ]
  },
  {
   "cell_type": "code",
   "execution_count": null,
   "metadata": {},
   "outputs": [],
   "source": [
    "nn = stream.Stream()\n",
    "for m in mm:\n",
    "    for n in m.notes.stream(): # NOTE: .notes\n",
    "        nn.append(n)\n",
    "print('Notes in the part', len(nn))"
   ]
  },
  {
   "cell_type": "markdown",
   "metadata": {},
   "source": [
    "As with the case of `.getElementsByClass`, the `.notes` attribute only retrives notes from the stream to which it is applied."
   ]
  },
  {
   "cell_type": "code",
   "execution_count": null,
   "metadata": {},
   "outputs": [],
   "source": [
    "nn = p.notes.stream()\n",
    "print('Notes in the part', len(nn))"
   ]
  },
  {
   "cell_type": "markdown",
   "metadata": {},
   "source": [
    "However, music21 offers the `.flat` attribute allows for searching in the streams contained in the stream to which it is applied."
   ]
  },
  {
   "cell_type": "code",
   "execution_count": null,
   "metadata": {},
   "outputs": [],
   "source": [
    "nn = p.flat.notes.stream()  # NOTE: .flat\n",
    "print('Notes in the part', len(nn))"
   ]
  },
  {
   "cell_type": "markdown",
   "metadata": {},
   "source": [
    "Now we have all the notes (and only the notes, no rests) stored in the stream `nn` that we created. Since we only stored notes there, there is no information about key nor time signature."
   ]
  },
  {
   "cell_type": "code",
   "execution_count": null,
   "metadata": {},
   "outputs": [],
   "source": [
    "nn.show()"
   ]
  },
  {
   "cell_type": "markdown",
   "metadata": {},
   "source": [
    "Interestingly, using the `.flat` attribute, the notes now relate their offset to the stream `nn`. Therefore, their offset is given with respect to the whole score."
   ]
  },
  {
   "cell_type": "code",
   "execution_count": null,
   "metadata": {},
   "outputs": [],
   "source": [
    "print('The first note of this part is in offset', nn[0].offset)"
   ]
  },
  {
   "cell_type": "markdown",
   "metadata": {},
   "source": [
    "Jingju arias usually have *banshi* changes, which are indicated in the score by a change of time signature. Let's see if this is the case."
   ]
  },
  {
   "cell_type": "code",
   "execution_count": null,
   "metadata": {},
   "outputs": [],
   "source": [
    "tSs = p.flat.getElementsByClass(meter.TimeSignature).stream() # NOTE: .flat is required\n",
    "print('This score contains {} time signatures'.format(len(tSs)))"
   ]
  },
  {
   "cell_type": "markdown",
   "metadata": {},
   "source": [
    "Let's look at these time signatures"
   ]
  },
  {
   "cell_type": "code",
   "execution_count": null,
   "metadata": {},
   "outputs": [],
   "source": [
    "for tS in tSs:\n",
    "    print(str(tS.numerator)+'/'+str(tS.denominator), 'in measure', tS.measureNumber, 'at offset', tS.offset)"
   ]
  },
  {
   "cell_type": "markdown",
   "metadata": {},
   "source": [
    "#### Working with intervals"
   ]
  },
  {
   "cell_type": "markdown",
   "metadata": {},
   "source": [
    "Intervals are a special type of object in music21 that has to be created from two notes. Let's explore the interval between the first 2 notes of this part."
   ]
  },
  {
   "cell_type": "code",
   "execution_count": null,
   "metadata": {},
   "outputs": [],
   "source": [
    "n0 = nn[0]\n",
    "n1 = nn[1]\n",
    "itv1 = interval.Interval(n0, n1)\n",
    "print(itv1)\n",
    "print('Interval from {} to {}'.format(itv1.noteStart.name, itv1.noteEnd.name))\n",
    "print('Name of the interval:', itv1.name)\n",
    "print('Simple name:', itv1.simpleName)\n",
    "print('Nicer name:', itv1.niceName)\n",
    "print('Interval semitones:', itv1.semitones)\n",
    "print('Interval cents:', itv1.cents)"
   ]
  },
  {
   "cell_type": "markdown",
   "metadata": {},
   "source": [
    "Sometimes we need to know the direction of the interval. Let's compare the previous interval with the one formed by the next to notes in the part."
   ]
  },
  {
   "cell_type": "code",
   "execution_count": null,
   "metadata": {},
   "outputs": [],
   "source": [
    "n2 = nn[2]\n",
    "itv2 = interval.Interval(n1, n2)\n",
    "print('Direction of the interval from {} to {}: {}'.format(itv1.noteStart.nameWithOctave, itv1.noteEnd.nameWithOctave, itv1.direction.name))\n",
    "print('Direction of the interval from {} to {}: {}'.format(itv2.noteStart.nameWithOctave, itv2.noteEnd.nameWithOctave, itv2.direction.name))"
   ]
  },
  {
   "cell_type": "markdown",
   "metadata": {},
   "source": [
    "There are different ways to work with interval direction."
   ]
  },
  {
   "cell_type": "code",
   "execution_count": null,
   "metadata": {},
   "outputs": [],
   "source": [
    "print('Name of the interval:\\t', itv2.name, '\\t\\t', itv2.directedName)\n",
    "print('Simple name:\\t\\t', itv2.simpleName, '\\t\\t', itv2.directedSimpleName)\n",
    "print('Nicer name:\\t\\t', itv2.niceName, '\\t', itv2.directedNiceName)\n",
    "print('Interval semitones:', itv2.semitones)\n",
    "print('Interval cents:', itv2.cents)"
   ]
  },
  {
   "cell_type": "markdown",
   "metadata": {},
   "source": [
    "#### Extra functionalities with notes"
   ]
  },
  {
   "cell_type": "markdown",
   "metadata": {},
   "source": [
    "If we need to work with pairs of consequtive notes (for example, to analyse the intervals in a piece), music21 conveniently offers the methos `.previous()` and `.next()` to retrive respectively the previous and following notes."
   ]
  },
  {
   "cell_type": "code",
   "execution_count": null,
   "metadata": {},
   "outputs": [],
   "source": [
    "print('{} is preceded by {} and followed by {}'.format(n1.name, n1.previous().name, n1.next().name))"
   ]
  },
  {
   "cell_type": "markdown",
   "metadata": {},
   "source": [
    "We can change the color of a note, in case, for example, that we need to find particular ones in the score.\n",
    "\n",
    "To test this functionality, let's search for all the perfect fourths in the score, and color the first note in red, and the second in purple."
   ]
  },
  {
   "cell_type": "code",
   "execution_count": null,
   "metadata": {},
   "outputs": [],
   "source": [
    "p4count = 0 # let's also count how many intervals are present in the part.\n",
    "\n",
    "for n in nn[:-1]:\n",
    "    itv = interval.Interval(n, n.next())\n",
    "    if itv.name == 'P4':\n",
    "        itv.noteStart.style.color = 'red'   # NOTE: .style.color\n",
    "        itv.noteEnd.style.color = 'purple'  # NOTE: .style.color\n",
    "        p4count += 1\n",
    "\n",
    "print('This part conatins {} perfect fourths'.format(p4count))\n",
    "\n",
    "nn.show()"
   ]
  },
  {
   "cell_type": "markdown",
   "metadata": {},
   "source": [
    "When we retrieve an object, we create a reference to the original one, not a copy of it. Therefore, the changes we do to it affect the original object."
   ]
  },
  {
   "cell_type": "code",
   "execution_count": null,
   "metadata": {},
   "outputs": [],
   "source": [
    "s.show()"
   ]
  },
  {
   "cell_type": "markdown",
   "metadata": {},
   "source": [
    "If you pay attention to the results, you'll see that some intervals where found in which there is a rest between the two notes of the interval. This might be not perceived as an interval by the listener.\n",
    "<br/>\n",
    "This is due to fact that when we call the `.notes` attribute, it only retrieves notes, and only notes, not rests. If we need to consider rests, we should use the `.notesAndRests` method."
   ]
  },
  {
   "cell_type": "code",
   "execution_count": null,
   "metadata": {},
   "outputs": [],
   "source": [
    "nr = p.flat.notesAndRests.stream()\n",
    "#nr.show()\n",
    "print('This part contains {} notes'.format(len(nn)))\n",
    "print('This part contains {} notes and rests'.format(len(nr)))"
   ]
  },
  {
   "cell_type": "markdown",
   "metadata": {},
   "source": [
    "To try this new approach, we will need to load the score again. Otherwise, all the notes whose color was changed previously, will continue with their new color."
   ]
  },
  {
   "cell_type": "code",
   "execution_count": null,
   "metadata": {},
   "outputs": [],
   "source": [
    "s = converter.parse('lseh-YiLunMing-WenZhaoGuan-1.xml')\n",
    "p = s.parts[0]\n",
    "nr = p.flat.notesAndRests.stream()\n",
    "\n",
    "p4count = 0\n",
    "\n",
    "s = converter.parse('lseh-YiLunMing-WenZhaoGuan-1.xml')\n",
    "p = s.parts[0]\n",
    "nr = p.flat.notesAndRests.stream()\n",
    "for n in nr[:-1]:\n",
    "    if n.isNote and n.next().isNote:      # NOTE: .isNote\n",
    "        itv = interval.Interval(n, n.next())\n",
    "        if itv.name == 'P4':\n",
    "            itv.noteStart.style.color = 'red'\n",
    "            itv.noteEnd.style.color = 'purple'\n",
    "            p4count += 1\n",
    "\n",
    "print('This part contains {} perfect fourths'.format(p4count))\n",
    "\n",
    "nr.show()"
   ]
  },
  {
   "cell_type": "markdown",
   "metadata": {},
   "source": [
    "<br/>"
   ]
  },
  {
   "cell_type": "markdown",
   "metadata": {},
   "source": [
    "Jingu scores have two parts, one vocal and one instrumental. Few of them even have three parts, two vocal parts, and one instrumental part. However, different sources have the vocal part on top, while others have it as the second part. If you work with a collection of scores, you might need to know which part is the vocal one and which one is the instrumental one. A way to automatically identify this is by searching for the part with lyrics.\n",
    "<br/>\n",
    "This is my way of doing it:"
   ]
  },
  {
   "cell_type": "code",
   "execution_count": null,
   "metadata": {},
   "outputs": [],
   "source": [
    "s = converter.parse('lseh-YiLunMing-WenZhaoGuan-1.xml')\n",
    "\n",
    "vocalParts = []\n",
    "instrumentalPart = []\n",
    "\n",
    "for p in s.parts:\n",
    "    nn = p.flat.notes.stream() # to look for lyrics, only notes are needed\n",
    "    i = 0\n",
    "    n = nn[i]\n",
    "    # sometimes the vocal part starts with grace notes,\n",
    "    # but lyrics are only attached to main notes\n",
    "    while n.quarterLength == 0:\n",
    "        i += 1\n",
    "        n = nn[i]\n",
    "    if n.lyric != None:\n",
    "        vocalParts.append(p)\n",
    "    else:\n",
    "        instrumentalPart.append(p)\n",
    "\n",
    "print('There is {} vocal part and {} instrumental part'.format(len(vocalParts), len(instrumentalPart)))\n",
    "\n",
    "vocalParts[0].show()"
   ]
  },
  {
   "cell_type": "markdown",
   "metadata": {},
   "source": [
    "### Working with makam scores\n",
    "Most of makam scores have non standard key signatures, and this might cause problems."
   ]
  },
  {
   "cell_type": "code",
   "execution_count": null,
   "metadata": {},
   "outputs": [],
   "source": [
    "makamScore = 'segah--sazsemaisi--aksaksemai----hizir_aga.xml'\n",
    "s = converter.parse(makamScore)"
   ]
  },
  {
   "cell_type": "markdown",
   "metadata": {},
   "source": [
    "Music21 was not developed with makam music in mind, and many of the accidentals used in makam music are not recognized by music21."
   ]
  },
  {
   "cell_type": "code",
   "execution_count": null,
   "metadata": {},
   "outputs": [],
   "source": [
    "# these are the names of all the accidentals used in makam scores, as contained in the MusicXML files\n",
    "makamAccidentals = ['double-slash-flat', 'flat', 'slash-flat', 'quarter-flat', 'quarter-sharp', 'sharp', 'slash-quarter-sharp', 'slash-sharp']\n",
    "\n",
    "# create a stream to contained altered notes\n",
    "makamNotes = stream.Stream()\n",
    "\n",
    "for i in range(len(makamAccidentals)): # create a note per accidental\n",
    "    try:\n",
    "        n = note.Note()\n",
    "        n.pitch.accidental = makamAccidentals[i] # add one accidental from the list\n",
    "        n.addLyric(makamAccidentals[i], applyRaw=True) # add the name of the accidental as lyric\n",
    "        n.addLyric(n.pitch.accidental.name, applyRaw=True) # add the name used by music21 as lyric\n",
    "        n.addLyric(n.pitch.accidental.alter) # add the number of semitones of the accidental as lyric\n",
    "        makamNotes.append(n)\n",
    "    except:\n",
    "        print(\"music21 doesn't accept {} as accidental\".format(makamAccidentals[i]))\n",
    "\n",
    "makamNotes.show()"
   ]
  },
  {
   "cell_type": "markdown",
   "metadata": {},
   "source": [
    "Since the problem when loading the score with music21 is the non standard key signature, one solution might be to manipulate the MusicXML file to get rid of the time signature.\n",
    "<br/>\n",
    "I use ElementTree to find it."
   ]
  },
  {
   "cell_type": "code",
   "execution_count": null,
   "metadata": {},
   "outputs": [],
   "source": [
    "import xml.etree.ElementTree as ET\n",
    "\n",
    "tree = ET.parse(makamScore)\n",
    "root = tree.getroot()        \n",
    "\n",
    "notes = []\n",
    "accidentals = []\n",
    "\n",
    "for k in root.iter('key'):\n",
    "    for ks in k.findall('key-step'):\n",
    "        notes.append(ks.text)\n",
    "    for ka in k.findall('key-accidental'):\n",
    "        accidentals.append(ka.text)\n",
    "\n",
    "print('The key signature of this score has:')\n",
    "for i in range(len(notes)):\n",
    "    print('-', notes[i], accidentals[i])"
   ]
  },
  {
   "cell_type": "markdown",
   "metadata": {},
   "source": [
    "Now I can remove it from the MusicXML file and create a new file without key signature"
   ]
  },
  {
   "cell_type": "code",
   "execution_count": null,
   "metadata": {},
   "outputs": [],
   "source": [
    "for k in root.iter('key'):\n",
    "    for ks in k.findall('key-step'):\n",
    "        k.remove(ks)\n",
    "    for ka in k.findall('key-accidental'):\n",
    "        k.remove(ka)\n",
    "\n",
    "newMakamScore = makamScore[:-4] + '_withoutKeySignature.xml'\n",
    "\n",
    "tree.write(newMakamScore)"
   ]
  },
  {
   "cell_type": "markdown",
   "metadata": {},
   "source": [
    "And now, music21 will load the score"
   ]
  },
  {
   "cell_type": "code",
   "execution_count": null,
   "metadata": {},
   "outputs": [],
   "source": [
    "s = converter.parse(newMakamScore)\n",
    "s.show()"
   ]
  },
  {
   "cell_type": "markdown",
   "metadata": {},
   "source": [
    "Even without the key signature, the information about accidentals is stored in the MusicXML file within each note, so it is still available"
   ]
  },
  {
   "cell_type": "code",
   "execution_count": null,
   "metadata": {},
   "outputs": [],
   "source": [
    "for n in nn:\n",
    "    if n.pitch.accidental != None:\n",
    "        print(n.pitch.accidental.name)"
   ]
  },
  {
   "cell_type": "code",
   "execution_count": null,
   "metadata": {},
   "outputs": [],
   "source": []
  }
 ],
 "metadata": {
  "kernelspec": {
   "display_name": "Python 3",
   "language": "python",
   "name": "python3"
  },
  "language_info": {
   "codemirror_mode": {
    "name": "ipython",
    "version": 3
   },
   "file_extension": ".py",
   "mimetype": "text/x-python",
   "name": "python",
   "nbconvert_exporter": "python",
   "pygments_lexer": "ipython3",
   "version": "3.7.3"
  }
 },
 "nbformat": 4,
 "nbformat_minor": 2
}
