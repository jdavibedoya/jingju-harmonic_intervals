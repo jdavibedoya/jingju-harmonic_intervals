{
 "cells": [
  {
   "cell_type": "markdown",
   "metadata": {},
   "source": [
    "##  music21 exercise 1\n",
    "Q. **How is instrumental accompaniment related to the vocal melody in jingju?**\n",
    "\n",
    "M. *Plot a bar chart with the number of intervals formed between each note in the accompaniment and the corresponding one in the vocal melody*"
   ]
  },
  {
   "cell_type": "code",
   "execution_count": 1,
   "metadata": {},
   "outputs": [],
   "source": [
    "from music21 import *\n",
    "import matplotlib.pyplot as plt"
   ]
  },
  {
   "cell_type": "markdown",
   "metadata": {},
   "source": [
    "Since the idea is to count the intervals formed by the notes in the instrumental part with the notes at the vocal part, first extract all the notes from each part"
   ]
  },
  {
   "cell_type": "code",
   "execution_count": 5,
   "metadata": {},
   "outputs": [],
   "source": [
    "s = converter.parse('../AMLP-music21-03-20200217/lseh-YiLunMing-WenZhaoGuan-1.xml')\n",
    "\n",
    "pi = s.parts[1] # Instrumental part\n",
    "pv = s.parts[0] # Vocal part\n",
    "\n",
    "ni = pi.flat.notes.stream() # All notes from the instrumental part\n",
    "nv = pv.flat.notes.stream() # All notes for the vocal part"
   ]
  },
  {
   "cell_type": "markdown",
   "metadata": {},
   "source": [
    "Then, I count all the intervals in a dictionary. The intervals are formed by each note of the instrumental accompaniment and the one that is *sounding* at the same time (that is, at the same offset) in the vocal part, which might start at the sime (the same offset) of the instrumental note, or can be sounding from before."
   ]
  },
  {
   "cell_type": "code",
   "execution_count": 6,
   "metadata": {},
   "outputs": [],
   "source": [
    "intervals = {}\n",
    "\n",
    "for n1 in ni:\n",
    "    if n1.quarterLength > 0: # Skip grace notes\n",
    "        o = n1.offset\n",
    "        # Retrieve the notes in the vocal part that occur at the instrumental note's offset.\n",
    "        # The mustBeginInSpan=False parameter allows retrieving notes that started before that\n",
    "        # offset are still sounding at that position.\n",
    "        # The result is a stream, which might contain more than one note in case there are\n",
    "        # grace notes, which share the offset with the main note.\n",
    "        nStr = nv.getElementsByOffset(o, mustBeginInSpan=False).stream()\n",
    "        for n2 in nStr:\n",
    "            if n2.quarterLength > 0: # Skip grace notes\n",
    "                itv = interval.Interval(n1, n2)\n",
    "                intervals[itv.name] = intervals.get(itv.name, 0) + 1\n",
    "            "
   ]
  },
  {
   "cell_type": "code",
   "execution_count": 7,
   "metadata": {},
   "outputs": [
    {
     "data": {
      "text/plain": [
       "{'P1': 1079,\n",
       " 'm3': 83,\n",
       " 'm2': 9,\n",
       " 'P4': 18,\n",
       " 'M2': 171,\n",
       " 'P5': 10,\n",
       " 'm7': 13,\n",
       " 'P8': 50,\n",
       " 'M6': 10,\n",
       " 'M3': 24,\n",
       " 'm10': 2,\n",
       " 'm6': 4,\n",
       " 'm9': 1}"
      ]
     },
     "execution_count": 7,
     "metadata": {},
     "output_type": "execute_result"
    }
   ],
   "source": [
    "intervals"
   ]
  },
  {
   "cell_type": "markdown",
   "metadata": {},
   "source": [
    "In order to display a meaningful bar chart, order the intervals according to its size in semitones."
   ]
  },
  {
   "cell_type": "code",
   "execution_count": 8,
   "metadata": {},
   "outputs": [],
   "source": [
    "# Create a dictionary with the equivalence of each interval's size in semitones and its name.\n",
    "intervalsOrder = {}\n",
    "for k in intervals.keys():\n",
    "    itv = interval.Interval(k)\n",
    "    intervalsOrder[itv.semitones] = k\n",
    "    \n",
    "# Ordered list of intervals by semitones size\n",
    "xValues = sorted(intervalsOrder.keys())\n",
    "# Oredred list of interval names by their semitiones size to be use as ticks for the x axis.\n",
    "xTicks = [intervalsOrder[i] for i in xValues]\n",
    "# Ordered list of y axis values\n",
    "yValues = [intervals[i] for i in xTicks]"
   ]
  },
  {
   "cell_type": "markdown",
   "metadata": {},
   "source": [
    "Plot the bar chart."
   ]
  },
  {
   "cell_type": "code",
   "execution_count": 9,
   "metadata": {},
   "outputs": [
    {
     "data": {
      "image/png": "[encoded data removed]",
      "text/plain": [
       "<Figure size 432x288 with 1 Axes>"
      ]
     },
     "metadata": {
      "image/png": {
       "height": 248,
       "width": 381
      },
      "needs_background": "light"
     },
     "output_type": "display_data"
    }
   ],
   "source": [
    "plt.bar(xValues, yValues)\n",
    "plt.xticks(xValues, xTicks)\n",
    "plt.show()"
   ]
  },
  {
   "cell_type": "code",
   "execution_count": null,
   "metadata": {},
   "outputs": [],
   "source": []
  }
 ],
 "metadata": {
  "kernelspec": {
   "display_name": "Python 3",
   "language": "python",
   "name": "python3"
  },
  "language_info": {
   "codemirror_mode": {
    "name": "ipython",
    "version": 3
   },
   "file_extension": ".py",
   "mimetype": "text/x-python",
   "name": "python",
   "nbconvert_exporter": "python",
   "pygments_lexer": "ipython3",
   "version": "3.7.3"
  }
 },
 "nbformat": 4,
 "nbformat_minor": 2
}
