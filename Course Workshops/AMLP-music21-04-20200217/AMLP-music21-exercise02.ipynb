{
 "cells": [
  {
   "attachments": {
    "semai-small.png": {
     "image/png": "[encoded data removed]"
    }
   },
   "cell_type": "markdown",
   "metadata": {},
   "source": [
    "##  music21 exercise 2\n",
    "Q. **How is the _usul aksaksemai_ realized in melodic surface?**\n",
    "\n",
    "![semai-small.png](attachment:semai-small.png)\n",
    "\n",
    "M. *Plot a bar chart with the number of notes that start at each beat of the* usul *(measure) from all the scores in the corpus which contain this* usul."
   ]
  },
  {
   "cell_type": "code",
   "execution_count": null,
   "metadata": {},
   "outputs": [],
   "source": [
    "from music21 import *\n",
    "import xml.etree.ElementTree as ET\n",
    "import os\n",
    "import matplotlib.pyplot as plt"
   ]
  },
  {
   "cell_type": "markdown",
   "metadata": {},
   "source": [
    "The naming convention of the xml files in the SymbTr collection is as follows:\n",
    "\n",
    "`makam--form--usul--lyrics--composer.xml`\n",
    "\n",
    "First retrieve all the xml files that contains the *aksaksemai usul*."
   ]
  },
  {
   "cell_type": "code",
   "execution_count": null,
   "metadata": {},
   "outputs": [],
   "source": [
    "folder = '../../SymbTr-2.4.3/MusicXML' # Write here the path to the folder that contains the SymbTr xml scores\n",
    "\n",
    "allScores = os.listdir(folder)\n",
    "\n",
    "aksaksemaiScores = []\n",
    "\n",
    "for f in allScores:\n",
    "    if f.split('--')[2] == 'aksaksemai':\n",
    "        aksaksemaiScores.append(f)\n",
    "        \n",
    "print('Found {} scores with aksaksemai usul'.format(len(aksaksemaiScores)))"
   ]
  },
  {
   "cell_type": "markdown",
   "metadata": {},
   "source": [
    "Count how many notes start in each beat of the measures. For that, the `.beat` attribute can be called for each note. To load the xml scores in music21, the key signature in the xml file should be previously removed to avoid errors."
   ]
  },
  {
   "cell_type": "code",
   "execution_count": null,
   "metadata": {},
   "outputs": [],
   "source": [
    "beatsDic = {}\n",
    "\n",
    "# Create a folder to contain the xml scores without key signature\n",
    "newFolder = 'aksaksemaiScores'\n",
    "os.mkdir(newFolder)\n",
    "\n",
    "for makamScore in aksaksemaiScores:\n",
    "    \n",
    "    # Remove the key signature from the xml file\n",
    "    tree = ET.parse(os.path.join(folder, makamScore))\n",
    "    root = tree.getroot()\n",
    "    \n",
    "    for k in root.iter('key'):\n",
    "        for ks in k.findall('key-step'):\n",
    "            k.remove(ks)\n",
    "        for ka in k.findall('key-accidental'):\n",
    "            k.remove(ka)\n",
    "        for ka in k.findall('key-alter'):\n",
    "            k.remove(ka)\n",
    "    \n",
    "    # Save the new xml files to be later loaded with music21\n",
    "    newMakamScore = os.path.join(newFolder, makamScore[:-4] + '_withoutKeySignature.xml')\n",
    "    tree.write(newMakamScore)\n",
    "    \n",
    "    # Load the file in music21 and get a stream with all the notes\n",
    "    s = converter.parse(newMakamScore)\n",
    "    nn = s.parts[0].flat.notes.stream()\n",
    "    \n",
    "    # Count the notes per beat\n",
    "    for n in nn:\n",
    "        beatsDic[n.beat] = beatsDic.get(n.beat, 0) + 1 # Use the .beat attibute"
   ]
  },
  {
   "cell_type": "code",
   "execution_count": null,
   "metadata": {},
   "outputs": [],
   "source": [
    "beatsDic"
   ]
  },
  {
   "cell_type": "markdown",
   "metadata": {},
   "source": [
    "Plot the bar chart."
   ]
  },
  {
   "cell_type": "code",
   "execution_count": null,
   "metadata": {},
   "outputs": [],
   "source": [
    "# Order the beats\n",
    "xValues = sorted(beatsDic.keys())\n",
    "yValues = [beatsDic[x] for x in xValues]\n",
    "\n",
    "# These are the beats where notes are played according to theory\n",
    "aksaksemaiBeats = [1, 4, 6, 8]\n",
    "\n",
    "plt.bar(xValues, yValues, width=0.2)\n",
    "# Draw a vertical red line to better compare the results with theory\n",
    "for beat in aksaksemaiBeats:\n",
    "    plt.axvline(beat, color='red')\n",
    "plt.xticks(aksaksemaiBeats, aksaksemaiBeats)\n",
    "plt.show()"
   ]
  },
  {
   "cell_type": "code",
   "execution_count": null,
   "metadata": {},
   "outputs": [],
   "source": []
  }
 ],
 "metadata": {
  "kernelspec": {
   "display_name": "Python 3",
   "language": "python",
   "name": "python3"
  },
  "language_info": {
   "codemirror_mode": {
    "name": "ipython",
    "version": 3
   },
   "file_extension": ".py",
   "mimetype": "text/x-python",
   "name": "python",
   "nbconvert_exporter": "python",
   "pygments_lexer": "ipython3",
   "version": "3.7.4"
  }
 },
 "nbformat": 4,
 "nbformat_minor": 2
}
