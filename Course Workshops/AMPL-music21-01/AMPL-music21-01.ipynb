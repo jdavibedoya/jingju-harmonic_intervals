{
 "cells": [
  {
   "cell_type": "markdown",
   "metadata": {},
   "source": [
    "## AMPL - Introduction to music21 (1)\n",
    "#### Simple demonstrations of the most common streams and objects in music21"
   ]
  },
  {
   "cell_type": "code",
   "execution_count": 1,
   "metadata": {},
   "outputs": [],
   "source": [
    "from music21 import *"
   ]
  },
  {
   "cell_type": "markdown",
   "metadata": {},
   "source": [
    "In order to visualize loaded scores using the `.show()`, a score editor should be installed and added to [music21's user environment](http://web.mit.edu/music21/doc/usersGuide/usersGuide_24_environment.html#usersguide-24-environment).\n",
    "Since we are going to be working with full scores, I personally prefer to open them directly in MuseScore (I will refer to this as the default score editor). So, in order to do that, I changed the user environment as follows:"
   ]
  },
  {
   "cell_type": "code",
   "execution_count": 4,
   "metadata": {},
   "outputs": [],
   "source": [
    "#us = environment.UserSettings()\n",
    "#us.create()\n",
    "#us['musicxmlPath'] = \"/Applications/MuseScore 3.app\"\n",
    "#us['ipythonShowFormat'] = 'musicxml'"
   ]
  },
  {
   "cell_type": "markdown",
   "metadata": {},
   "source": [
    "Let's load a music score. Music21 handels it as a stream. We can give it a look using `.show()`.\n",
    "<br/>\n",
    "*\\[Trick: if you want to continue working with music21 while having MuseScore open, just open MuseScore before calling the `.show()` method.\\]*"
   ]
  },
  {
   "cell_type": "code",
   "execution_count": 2,
   "metadata": {},
   "outputs": [
    {
     "name": "stdout",
     "output_type": "stream",
     "text": [
      "<class 'music21.stream.Score'>\n"
     ]
    }
   ],
   "source": [
    "s = converter.parse('lseh-WeiGuoJia-HongYangDong-1.xml')\n",
    "print(type(s))\n",
    "s.show()"
   ]
  },
  {
   "cell_type": "markdown",
   "metadata": {},
   "source": [
    "The `.elements` attribute returns a list of all the objects contained in a music21 stream."
   ]
  },
  {
   "cell_type": "code",
   "execution_count": 3,
   "metadata": {},
   "outputs": [
    {
     "name": "stdout",
     "output_type": "stream",
     "text": [
      "This score contains these 7 elements\n",
      "- <music21.text.TextBox \"“为国家哪何曾半日闲...\">\n",
      "- <music21.text.TextBox \"《洪羊洞》（杨延昭）\">\n",
      "- <music21.text.TextBox \"《中国京剧流派剧目集...\">\n",
      "- <music21.metadata.Metadata object at 0x11b98f898>\n",
      "- <music21.stream.Part Piano>\n",
      "- <music21.stream.Part Piano>\n",
      "- <music21.layout.ScoreLayout>\n"
     ]
    }
   ],
   "source": [
    "print('This score contains these {} elements'.format(len(s.elements)))\n",
    "for element in s.elements:\n",
    "    print('-', element)"
   ]
  },
  {
   "cell_type": "markdown",
   "metadata": {},
   "source": [
    "As you can see, a score contains more than music. If we want to focus on the music, we can call the `.parts` attribute.\n",
    "<br/>\n",
    "By the way, music21 will work better if you store anything you retrieve from a stream in another stream, using the `.stream()` method."
   ]
  },
  {
   "cell_type": "code",
   "execution_count": 10,
   "metadata": {},
   "outputs": [
    {
     "name": "stdout",
     "output_type": "stream",
     "text": [
      "0 <music21.stream.Part Piano>\n",
      "1 <music21.stream.Part Piano>\n"
     ]
    }
   ],
   "source": [
    "scoreParts = s.parts.stream()\n",
    "for count,element in enumerate(scoreParts.elements):\n",
    "    print(count,element)"
   ]
  },
  {
   "cell_type": "markdown",
   "metadata": {},
   "source": [
    "Now we can work with each of these parts, and have a look at them separately. We can call the `.show()` method with any stream.\n",
    "<br/>\n",
    "*\\[Notice that now all the metadata are missing, because they are not related to the part, but are contained as specific objects in the score.\\]*"
   ]
  },
  {
   "cell_type": "code",
   "execution_count": 7,
   "metadata": {},
   "outputs": [],
   "source": [
    "part0 = scoreParts[0]\n",
    "part1 = scoreParts[1]\n",
    "\n",
    "part0.show()"
   ]
  },
  {
   "cell_type": "markdown",
   "metadata": {},
   "source": [
    "These two part should be equally long, but are they?"
   ]
  },
  {
   "cell_type": "code",
   "execution_count": 8,
   "metadata": {},
   "outputs": [
    {
     "name": "stdout",
     "output_type": "stream",
     "text": [
      "Elements in part 0: 187\n",
      "Elements in part 1: 154\n"
     ]
    }
   ],
   "source": [
    "print('Elements in part 0:', len(part0.elements))\n",
    "print('Elements in part 1:', len(part1.elements))"
   ]
  },
  {
   "cell_type": "markdown",
   "metadata": {},
   "source": [
    "To understand this difference, let's have a look to what is contained in each part."
   ]
  },
  {
   "cell_type": "code",
   "execution_count": 10,
   "metadata": {},
   "outputs": [
    {
     "data": {
      "text/plain": [
       "(<music21.instrument.Instrument 'P1: Piano: Piano'>,\n",
       " <music21.stream.Measure 0 offset=0.0>,\n",
       " <music21.spanner.Slur <music21.note.Note E><music21.note.Note C#>>,\n",
       " <music21.spanner.Slur <music21.note.Note F#><music21.note.Note G#>>,\n",
       " <music21.spanner.Slur <music21.note.Note B><music21.note.Note B>>,\n",
       " <music21.spanner.Slur <music21.note.Note C#><music21.note.Note E>>,\n",
       " <music21.spanner.Slur <music21.note.Note A><music21.note.Note B>>,\n",
       " <music21.spanner.Slur <music21.note.Note G#><music21.note.Note F#>>,\n",
       " <music21.spanner.Slur <music21.note.Note D#><music21.note.Note C#>>,\n",
       " <music21.spanner.Slur <music21.note.Note B><music21.note.Note C#>>,\n",
       " <music21.spanner.Slur <music21.note.Note F#><music21.note.Note B>>,\n",
       " <music21.spanner.Slur <music21.note.Note G#><music21.note.Note F#>>,\n",
       " <music21.spanner.Slur <music21.note.Note D#><music21.note.Note C#>>,\n",
       " <music21.spanner.Slur <music21.note.Note D#><music21.note.Note C#>>,\n",
       " <music21.spanner.Slur <music21.note.Note B><music21.note.Note C#>>,\n",
       " <music21.spanner.Slur <music21.note.Note E><music21.note.Note C#>>,\n",
       " <music21.spanner.Slur <music21.note.Note F#><music21.note.Note G#>>,\n",
       " <music21.spanner.Slur <music21.note.Note B><music21.note.Note B>>,\n",
       " <music21.spanner.Slur <music21.note.Note C#><music21.note.Note E>>,\n",
       " <music21.spanner.Slur <music21.note.Note E><music21.note.Note B>>,\n",
       " <music21.spanner.Slur <music21.note.Note E><music21.note.Note F#>>,\n",
       " <music21.spanner.Slur <music21.note.Note F#><music21.note.Note G#>>,\n",
       " <music21.spanner.Slur <music21.note.Note A><music21.note.Note G#>>,\n",
       " <music21.spanner.Slur <music21.note.Note E><music21.note.Note C#>>,\n",
       " <music21.spanner.Slur <music21.note.Note F#><music21.note.Note G#>>,\n",
       " <music21.spanner.Slur <music21.note.Note B><music21.note.Note B>>,\n",
       " <music21.spanner.Slur <music21.note.Note G#><music21.note.Note F#>>,\n",
       " <music21.spanner.Slur <music21.note.Note B><music21.note.Note C#>>,\n",
       " <music21.spanner.Slur <music21.note.Note F#><music21.note.Note G#>>,\n",
       " <music21.spanner.Slur <music21.note.Note D#><music21.note.Note E>>,\n",
       " <music21.spanner.Slur <music21.note.Note D#><music21.note.Note E>>,\n",
       " <music21.spanner.Slur <music21.note.Note D#><music21.note.Note E>>,\n",
       " <music21.spanner.Slur <music21.note.Note D#><music21.note.Note F#>>,\n",
       " <music21.spanner.Slur <music21.note.Note D#><music21.note.Note C#>>,\n",
       " <music21.spanner.Slur <music21.note.Note B><music21.note.Note C#>>,\n",
       " <music21.spanner.Slur <music21.note.Note C#><music21.note.Note B>>,\n",
       " <music21.spanner.Slur <music21.note.Note B><music21.note.Note D#>>,\n",
       " <music21.spanner.Slur <music21.note.Note C#><music21.note.Note B>>,\n",
       " <music21.spanner.Slur <music21.note.Note C#><music21.note.Note B>>,\n",
       " <music21.spanner.Slur <music21.note.Note C#><music21.note.Note E>>,\n",
       " <music21.spanner.Slur <music21.note.Note G#><music21.note.Note F#>>,\n",
       " <music21.spanner.Slur <music21.note.Note C#><music21.note.Note B>>,\n",
       " <music21.spanner.Slur <music21.note.Note C#><music21.note.Note D#>>,\n",
       " <music21.spanner.Slur <music21.note.Note B><music21.note.Note C#>>,\n",
       " <music21.spanner.Slur <music21.note.Note F#><music21.note.Note B>>,\n",
       " <music21.spanner.Slur <music21.note.Note G#><music21.note.Note F#>>,\n",
       " <music21.spanner.Slur <music21.note.Note D#><music21.note.Note C#>>,\n",
       " <music21.spanner.Slur <music21.note.Note D#><music21.note.Note C#>>,\n",
       " <music21.spanner.Slur <music21.note.Note B><music21.note.Note C#>>,\n",
       " <music21.spanner.Slur <music21.note.Note E><music21.note.Note C#>>,\n",
       " <music21.spanner.Slur <music21.note.Note F#><music21.note.Note G#>>,\n",
       " <music21.spanner.Slur <music21.note.Note B><music21.note.Note B>>,\n",
       " <music21.spanner.Slur <music21.note.Note C#><music21.note.Note E>>,\n",
       " <music21.spanner.Slur <music21.note.Note G#><music21.note.Note B>>,\n",
       " <music21.spanner.Slur <music21.note.Note G#><music21.note.Note F#>>,\n",
       " <music21.spanner.Slur <music21.note.Note B><music21.note.Note C#>>,\n",
       " <music21.spanner.Slur <music21.note.Note C#><music21.note.Note E>>,\n",
       " <music21.spanner.Slur <music21.note.Note F#><music21.note.Note G#>>,\n",
       " <music21.spanner.Slur <music21.note.Note F#><music21.note.Note G#>>,\n",
       " <music21.spanner.Slur <music21.note.Note C#><music21.note.Note D#>>,\n",
       " <music21.spanner.Slur <music21.note.Note F#><music21.note.Note G#>>,\n",
       " <music21.spanner.Slur <music21.note.Note E><music21.note.Note C#>>,\n",
       " <music21.spanner.Slur <music21.note.Note F#><music21.note.Note G#>>,\n",
       " <music21.spanner.Slur <music21.note.Note B><music21.note.Note B>>,\n",
       " <music21.spanner.Slur <music21.note.Note C#><music21.note.Note E>>,\n",
       " <music21.spanner.Slur <music21.note.Note C#><music21.note.Note E>>,\n",
       " <music21.spanner.Slur <music21.note.Note F#><music21.note.Note G#>>,\n",
       " <music21.spanner.Slur <music21.note.Note E><music21.note.Note C#>>,\n",
       " <music21.spanner.Slur <music21.note.Note F#><music21.note.Note G#>>,\n",
       " <music21.spanner.Slur <music21.note.Note B><music21.note.Note B>>,\n",
       " <music21.spanner.Slur <music21.note.Note B><music21.note.Note C#>>,\n",
       " <music21.spanner.Slur <music21.note.Note G#><music21.note.Note F#>>,\n",
       " <music21.spanner.Slur <music21.note.Note B><music21.note.Note C#>>,\n",
       " <music21.spanner.Slur <music21.note.Note C#><music21.note.Note F#>>,\n",
       " <music21.spanner.Slur <music21.note.Note D#><music21.note.Note C#>>,\n",
       " <music21.spanner.Slur <music21.note.Note F#><music21.note.Note G#>>,\n",
       " <music21.spanner.Slur <music21.note.Note C#><music21.note.Note B>>,\n",
       " <music21.spanner.Slur <music21.note.Note C#><music21.note.Note B>>,\n",
       " <music21.spanner.Slur <music21.note.Note E><music21.note.Note D#>>,\n",
       " <music21.spanner.Slur <music21.note.Note C#><music21.note.Note B>>,\n",
       " <music21.spanner.Slur <music21.note.Note C#><music21.note.Note E>>,\n",
       " <music21.spanner.Slur <music21.note.Note C#><music21.note.Note B>>,\n",
       " <music21.spanner.Slur <music21.note.Note G#><music21.note.Note F#>>,\n",
       " <music21.spanner.Slur <music21.note.Note C#><music21.note.Note B>>,\n",
       " <music21.spanner.Slur <music21.note.Note F#><music21.note.Note B>>,\n",
       " <music21.spanner.Slur <music21.note.Note F#><music21.note.Note G#>>,\n",
       " <music21.spanner.Slur <music21.note.Note A><music21.note.Note G#>>,\n",
       " <music21.spanner.Slur <music21.note.Note C#><music21.note.Note B>>,\n",
       " <music21.spanner.Slur <music21.note.Note C#><music21.note.Note E>>,\n",
       " <music21.spanner.Slur <music21.note.Note B><music21.note.Note C#>>,\n",
       " <music21.spanner.Slur <music21.note.Note F#><music21.note.Note B>>,\n",
       " <music21.spanner.Slur <music21.note.Note G#><music21.note.Note F#>>,\n",
       " <music21.spanner.Slur <music21.note.Note D#><music21.note.Note C#>>,\n",
       " <music21.spanner.Slur <music21.note.Note D#><music21.note.Note C#>>,\n",
       " <music21.spanner.Slur <music21.note.Note B><music21.note.Note C#>>,\n",
       " <music21.spanner.Slur <music21.note.Note E><music21.note.Note C#>>,\n",
       " <music21.spanner.Slur <music21.note.Note F#><music21.note.Note G#>>,\n",
       " <music21.spanner.Slur <music21.note.Note B><music21.note.Note B>>,\n",
       " <music21.spanner.Slur <music21.note.Note C#><music21.note.Note E>>,\n",
       " <music21.spanner.Slur <music21.note.Note G#><music21.note.Note F#>>,\n",
       " <music21.spanner.Slur <music21.note.Note G#><music21.note.Note F#>>,\n",
       " <music21.spanner.Slur <music21.note.Note B><music21.note.Note C#>>,\n",
       " <music21.spanner.Slur <music21.note.Note F#><music21.note.Note G#>>,\n",
       " <music21.stream.Measure 1 offset=0.5>,\n",
       " <music21.stream.Measure 2 offset=2.5>,\n",
       " <music21.stream.Measure 3 offset=4.5>,\n",
       " <music21.stream.Measure 4 offset=6.5>,\n",
       " <music21.stream.Measure 5 offset=8.5>,\n",
       " <music21.stream.Measure 6 offset=10.5>,\n",
       " <music21.stream.Measure 7 offset=12.5>,\n",
       " <music21.stream.Measure 8 offset=14.5>,\n",
       " <music21.stream.Measure 9 offset=16.5>,\n",
       " <music21.stream.Measure 10 offset=18.5>,\n",
       " <music21.stream.Measure 11 offset=20.5>,\n",
       " <music21.stream.Measure 12 offset=22.5>,\n",
       " <music21.stream.Measure 13 offset=24.5>,\n",
       " <music21.stream.Measure 14 offset=26.5>,\n",
       " <music21.stream.Measure 15 offset=28.5>,\n",
       " <music21.stream.Measure 16 offset=30.5>,\n",
       " <music21.stream.Measure 17 offset=32.5>,\n",
       " <music21.stream.Measure 18 offset=34.5>,\n",
       " <music21.stream.Measure 19 offset=36.5>,\n",
       " <music21.stream.Measure 20 offset=38.5>,\n",
       " <music21.stream.Measure 21 offset=40.5>,\n",
       " <music21.stream.Measure 22 offset=42.5>,\n",
       " <music21.stream.Measure 23 offset=44.5>,\n",
       " <music21.stream.Measure 24 offset=46.5>,\n",
       " <music21.stream.Measure 25 offset=48.5>,\n",
       " <music21.stream.Measure 26 offset=50.5>,\n",
       " <music21.stream.Measure 27 offset=52.5>,\n",
       " <music21.stream.Measure 28 offset=54.5>,\n",
       " <music21.stream.Measure 29 offset=56.5>,\n",
       " <music21.stream.Measure 30 offset=58.5>,\n",
       " <music21.stream.Measure 31 offset=60.5>,\n",
       " <music21.stream.Measure 32 offset=62.5>,\n",
       " <music21.stream.Measure 33 offset=64.5>,\n",
       " <music21.stream.Measure 34 offset=66.5>,\n",
       " <music21.stream.Measure 35 offset=68.5>,\n",
       " <music21.stream.Measure 36 offset=70.5>,\n",
       " <music21.stream.Measure 37 offset=72.5>,\n",
       " <music21.stream.Measure 38 offset=74.5>,\n",
       " <music21.stream.Measure 39 offset=76.5>,\n",
       " <music21.stream.Measure 40 offset=78.5>,\n",
       " <music21.stream.Measure 41 offset=80.5>,\n",
       " <music21.stream.Measure 42 offset=82.5>,\n",
       " <music21.stream.Measure 43 offset=84.5>,\n",
       " <music21.stream.Measure 44 offset=86.5>,\n",
       " <music21.stream.Measure 45 offset=88.5>,\n",
       " <music21.stream.Measure 46 offset=90.5>,\n",
       " <music21.stream.Measure 47 offset=92.5>,\n",
       " <music21.stream.Measure 48 offset=94.5>,\n",
       " <music21.stream.Measure 49 offset=96.5>,\n",
       " <music21.stream.Measure 50 offset=98.5>,\n",
       " <music21.stream.Measure 51 offset=100.5>,\n",
       " <music21.stream.Measure 52 offset=102.5>,\n",
       " <music21.stream.Measure 53 offset=104.5>,\n",
       " <music21.stream.Measure 54 offset=106.5>,\n",
       " <music21.stream.Measure 55 offset=108.5>,\n",
       " <music21.stream.Measure 56 offset=110.5>,\n",
       " <music21.stream.Measure 57 offset=112.5>,\n",
       " <music21.stream.Measure 58 offset=114.5>,\n",
       " <music21.stream.Measure 59 offset=116.5>,\n",
       " <music21.stream.Measure 60 offset=118.5>,\n",
       " <music21.stream.Measure 61 offset=120.5>,\n",
       " <music21.stream.Measure 62 offset=122.5>,\n",
       " <music21.stream.Measure 63 offset=124.5>,\n",
       " <music21.stream.Measure 64 offset=126.5>,\n",
       " <music21.stream.Measure 65 offset=128.5>,\n",
       " <music21.stream.Measure 66 offset=130.5>,\n",
       " <music21.stream.Measure 67 offset=132.5>,\n",
       " <music21.stream.Measure 68 offset=134.5>,\n",
       " <music21.stream.Measure 69 offset=136.5>,\n",
       " <music21.stream.Measure 70 offset=138.5>,\n",
       " <music21.stream.Measure 71 offset=140.5>,\n",
       " <music21.stream.Measure 72 offset=142.5>,\n",
       " <music21.stream.Measure 73 offset=144.5>,\n",
       " <music21.stream.Measure 74 offset=146.5>,\n",
       " <music21.stream.Measure 75 offset=148.5>,\n",
       " <music21.stream.Measure 76 offset=150.5>,\n",
       " <music21.stream.Measure 77 offset=152.5>,\n",
       " <music21.stream.Measure 78 offset=154.5>,\n",
       " <music21.stream.Measure 79 offset=156.5>,\n",
       " <music21.stream.Measure 80 offset=158.5>,\n",
       " <music21.stream.Measure 81 offset=160.5>,\n",
       " <music21.stream.Measure 82 offset=162.5>,\n",
       " <music21.stream.Measure 83 offset=164.5>,\n",
       " <music21.stream.Measure 84 offset=166.5>)"
      ]
     },
     "execution_count": 10,
     "metadata": {},
     "output_type": "execute_result"
    }
   ],
   "source": [
    "part0.elements"
   ]
  },
  {
   "cell_type": "code",
   "execution_count": 11,
   "metadata": {},
   "outputs": [
    {
     "data": {
      "text/plain": [
       "(<music21.instrument.Instrument 'P2: Piano: Piano'>,\n",
       " <music21.stream.Measure 0 offset=0.0>,\n",
       " <music21.spanner.Slur <music21.note.Note F#><music21.note.Note B>>,\n",
       " <music21.spanner.Slur <music21.note.Note G#><music21.note.Note F#>>,\n",
       " <music21.spanner.Slur <music21.note.Note G#><music21.note.Note F#>>,\n",
       " <music21.spanner.Slur <music21.note.Note G#><music21.note.Note F#>>,\n",
       " <music21.spanner.Slur <music21.note.Note F#><music21.note.Note F#>>,\n",
       " <music21.spanner.Slur <music21.note.Note F#><music21.note.Note F#>>,\n",
       " <music21.spanner.Slur <music21.note.Note F#><music21.note.Note E>>,\n",
       " <music21.spanner.Slur <music21.note.Note C#><music21.note.Note F#>>,\n",
       " <music21.spanner.Slur <music21.note.Note E><music21.note.Note E>>,\n",
       " <music21.spanner.Slur <music21.note.Note F#><music21.note.Note E>>,\n",
       " <music21.spanner.Slur <music21.note.Note F#><music21.note.Note E>>,\n",
       " <music21.spanner.Slur <music21.note.Note F#><music21.note.Note E>>,\n",
       " <music21.spanner.Slur <music21.note.Note E><music21.note.Note F#>>,\n",
       " <music21.spanner.Slur <music21.note.Note F#><music21.note.Note G#>>,\n",
       " <music21.spanner.Slur <music21.note.Note B><music21.note.Note G#>>,\n",
       " <music21.spanner.Slur <music21.note.Note F#><music21.note.Note E>>,\n",
       " <music21.spanner.Slur <music21.note.Note C#><music21.note.Note E>>,\n",
       " <music21.spanner.Slur <music21.note.Note E><music21.note.Note C##>>,\n",
       " <music21.spanner.Slur <music21.note.Note F#><music21.note.Note E>>,\n",
       " <music21.spanner.Slur <music21.note.Note F#><music21.note.Note E>>,\n",
       " <music21.spanner.Slur <music21.note.Note F#><music21.note.Note E>>,\n",
       " <music21.spanner.Slur <music21.note.Note C#><music21.note.Note B>>,\n",
       " <music21.spanner.Slur <music21.note.Note C#><music21.note.Note B>>,\n",
       " <music21.spanner.Slur <music21.note.Note C#><music21.note.Note B>>,\n",
       " <music21.spanner.Slur <music21.note.Note G#><music21.note.Note B>>,\n",
       " <music21.spanner.Slur <music21.note.Note E><music21.note.Note C#>>,\n",
       " <music21.spanner.Slur <music21.note.Note G#><music21.note.Note F#>>,\n",
       " <music21.spanner.Slur <music21.note.Note G#><music21.note.Note F#>>,\n",
       " <music21.spanner.Slur <music21.note.Note E><music21.note.Note E>>,\n",
       " <music21.spanner.Slur <music21.note.Note F#><music21.note.Note C#>>,\n",
       " <music21.spanner.Slur <music21.note.Note B><music21.note.Note E>>,\n",
       " <music21.spanner.Slur <music21.note.Note B><music21.note.Note C#>>,\n",
       " <music21.spanner.Slur <music21.note.Note F#><music21.note.Note E>>,\n",
       " <music21.spanner.Slur <music21.note.Note C#><music21.note.Note E>>,\n",
       " <music21.spanner.Slur <music21.note.Note F#><music21.note.Note E>>,\n",
       " <music21.spanner.Slur <music21.note.Note F#><music21.note.Note G#>>,\n",
       " <music21.spanner.Slur <music21.note.Note G#><music21.note.Note F#>>,\n",
       " <music21.spanner.Slur <music21.note.Note G#><music21.note.Note F#>>,\n",
       " <music21.spanner.Slur <music21.note.Note E><music21.note.Note G#>>,\n",
       " <music21.spanner.Slur <music21.note.Note F#><music21.note.Note E>>,\n",
       " <music21.spanner.Slur <music21.note.Note F#><music21.note.Note F#>>,\n",
       " <music21.spanner.Slur <music21.note.Note E><music21.note.Note E>>,\n",
       " <music21.spanner.Slur <music21.note.Note F#><music21.note.Note E>>,\n",
       " <music21.spanner.Slur <music21.note.Note F#><music21.note.Note E>>,\n",
       " <music21.spanner.Slur <music21.note.Note E><music21.note.Note F#>>,\n",
       " <music21.spanner.Slur <music21.note.Note F#><music21.note.Note B>>,\n",
       " <music21.spanner.Slur <music21.note.Note F#><music21.note.Note G#>>,\n",
       " <music21.spanner.Slur <music21.note.Note C#><music21.note.Note B>>,\n",
       " <music21.spanner.Slur <music21.note.Note C#><music21.note.Note C#>>,\n",
       " <music21.spanner.Slur <music21.note.Note D#><music21.note.Note C#>>,\n",
       " <music21.spanner.Slur <music21.note.Note C#><music21.note.Note C#>>,\n",
       " <music21.spanner.Slur <music21.note.Note D#><music21.note.Note C#>>,\n",
       " <music21.spanner.Slur <music21.note.Note D#><music21.note.Note C#>>,\n",
       " <music21.spanner.Slur <music21.note.Note D#><music21.note.Note C#>>,\n",
       " <music21.spanner.Slur <music21.note.Note C#><music21.note.Note D#>>,\n",
       " <music21.spanner.Slur <music21.note.Note E><music21.note.Note F#>>,\n",
       " <music21.spanner.Slur <music21.note.Note G#><music21.note.Note C#>>,\n",
       " <music21.spanner.Slur <music21.note.Note G#><music21.note.Note F#>>,\n",
       " <music21.spanner.Slur <music21.note.Note G#><music21.note.Note F#>>,\n",
       " <music21.spanner.Slur <music21.note.Note B><music21.note.Note F#>>,\n",
       " <music21.spanner.Slur <music21.note.Note D#><music21.note.Note C#>>,\n",
       " <music21.spanner.Slur <music21.note.Note B><music21.note.Note G#>>,\n",
       " <music21.spanner.Slur <music21.note.Note B><music21.note.Note C#>>,\n",
       " <music21.spanner.Slur <music21.note.Note D#><music21.note.Note C#>>,\n",
       " <music21.spanner.Slur <music21.note.Note F#><music21.note.Note G#>>,\n",
       " <music21.spanner.Slur <music21.note.Note C#><music21.note.Note G#>>,\n",
       " <music21.spanner.Slur <music21.note.Note B><music21.note.Note B>>,\n",
       " <music21.spanner.Slur <music21.note.Note A><music21.note.Note G#>>,\n",
       " <music21.stream.Measure 1 offset=0.5>,\n",
       " <music21.stream.Measure 2 offset=2.5>,\n",
       " <music21.stream.Measure 3 offset=4.5>,\n",
       " <music21.stream.Measure 4 offset=6.5>,\n",
       " <music21.stream.Measure 5 offset=8.5>,\n",
       " <music21.stream.Measure 6 offset=10.5>,\n",
       " <music21.stream.Measure 7 offset=12.5>,\n",
       " <music21.stream.Measure 8 offset=14.5>,\n",
       " <music21.stream.Measure 9 offset=16.5>,\n",
       " <music21.stream.Measure 10 offset=18.5>,\n",
       " <music21.stream.Measure 11 offset=20.5>,\n",
       " <music21.stream.Measure 12 offset=22.5>,\n",
       " <music21.stream.Measure 13 offset=24.5>,\n",
       " <music21.stream.Measure 14 offset=26.5>,\n",
       " <music21.stream.Measure 15 offset=28.5>,\n",
       " <music21.stream.Measure 16 offset=30.5>,\n",
       " <music21.stream.Measure 17 offset=32.5>,\n",
       " <music21.stream.Measure 18 offset=34.5>,\n",
       " <music21.stream.Measure 19 offset=36.5>,\n",
       " <music21.stream.Measure 20 offset=38.5>,\n",
       " <music21.stream.Measure 21 offset=40.5>,\n",
       " <music21.stream.Measure 22 offset=42.5>,\n",
       " <music21.stream.Measure 23 offset=44.5>,\n",
       " <music21.stream.Measure 24 offset=46.5>,\n",
       " <music21.stream.Measure 25 offset=48.5>,\n",
       " <music21.stream.Measure 26 offset=50.5>,\n",
       " <music21.stream.Measure 27 offset=52.5>,\n",
       " <music21.stream.Measure 28 offset=54.5>,\n",
       " <music21.stream.Measure 29 offset=56.5>,\n",
       " <music21.stream.Measure 30 offset=58.5>,\n",
       " <music21.stream.Measure 31 offset=60.5>,\n",
       " <music21.stream.Measure 32 offset=62.5>,\n",
       " <music21.stream.Measure 33 offset=64.5>,\n",
       " <music21.stream.Measure 34 offset=66.5>,\n",
       " <music21.stream.Measure 35 offset=68.5>,\n",
       " <music21.stream.Measure 36 offset=70.5>,\n",
       " <music21.stream.Measure 37 offset=72.5>,\n",
       " <music21.stream.Measure 38 offset=74.5>,\n",
       " <music21.stream.Measure 39 offset=76.5>,\n",
       " <music21.stream.Measure 40 offset=78.5>,\n",
       " <music21.stream.Measure 41 offset=80.5>,\n",
       " <music21.stream.Measure 42 offset=82.5>,\n",
       " <music21.stream.Measure 43 offset=84.5>,\n",
       " <music21.stream.Measure 44 offset=86.5>,\n",
       " <music21.stream.Measure 45 offset=88.5>,\n",
       " <music21.stream.Measure 46 offset=90.5>,\n",
       " <music21.stream.Measure 47 offset=92.5>,\n",
       " <music21.stream.Measure 48 offset=94.5>,\n",
       " <music21.stream.Measure 49 offset=96.5>,\n",
       " <music21.stream.Measure 50 offset=98.5>,\n",
       " <music21.stream.Measure 51 offset=100.5>,\n",
       " <music21.stream.Measure 52 offset=102.5>,\n",
       " <music21.stream.Measure 53 offset=104.5>,\n",
       " <music21.stream.Measure 54 offset=106.5>,\n",
       " <music21.stream.Measure 55 offset=108.5>,\n",
       " <music21.stream.Measure 56 offset=110.5>,\n",
       " <music21.stream.Measure 57 offset=112.5>,\n",
       " <music21.stream.Measure 58 offset=114.5>,\n",
       " <music21.stream.Measure 59 offset=116.5>,\n",
       " <music21.stream.Measure 60 offset=118.5>,\n",
       " <music21.stream.Measure 61 offset=120.5>,\n",
       " <music21.stream.Measure 62 offset=122.5>,\n",
       " <music21.stream.Measure 63 offset=124.5>,\n",
       " <music21.stream.Measure 64 offset=126.5>,\n",
       " <music21.stream.Measure 65 offset=128.5>,\n",
       " <music21.stream.Measure 66 offset=130.5>,\n",
       " <music21.stream.Measure 67 offset=132.5>,\n",
       " <music21.stream.Measure 68 offset=134.5>,\n",
       " <music21.stream.Measure 69 offset=136.5>,\n",
       " <music21.stream.Measure 70 offset=138.5>,\n",
       " <music21.stream.Measure 71 offset=140.5>,\n",
       " <music21.stream.Measure 72 offset=142.5>,\n",
       " <music21.stream.Measure 73 offset=144.5>,\n",
       " <music21.stream.Measure 74 offset=146.5>,\n",
       " <music21.stream.Measure 75 offset=148.5>,\n",
       " <music21.stream.Measure 76 offset=150.5>,\n",
       " <music21.stream.Measure 77 offset=152.5>,\n",
       " <music21.stream.Measure 78 offset=154.5>,\n",
       " <music21.stream.Measure 79 offset=156.5>,\n",
       " <music21.stream.Measure 80 offset=158.5>,\n",
       " <music21.stream.Measure 81 offset=160.5>,\n",
       " <music21.stream.Measure 82 offset=162.5>,\n",
       " <music21.stream.Measure 83 offset=164.5>,\n",
       " <music21.stream.Measure 84 offset=166.5>)"
      ]
     },
     "execution_count": 11,
     "metadata": {},
     "output_type": "execute_result"
    }
   ],
   "source": [
    "part1.elements"
   ]
  },
  {
   "cell_type": "markdown",
   "metadata": {},
   "source": [
    "As you can see, each part contains one instrument object, many slur objects, and many measure objects. The music is contained in the measures, so let's retrieve only those, by using the `.getElementsByClass()` method.\n",
    "<br/>\n",
    "Remember to store everything you retrieve from a stream in another stream."
   ]
  },
  {
   "cell_type": "code",
   "execution_count": 9,
   "metadata": {},
   "outputs": [
    {
     "name": "stdout",
     "output_type": "stream",
     "text": [
      "Measures in part 0: 85\n",
      "Measures in part 1: 85\n"
     ]
    }
   ],
   "source": [
    "measures0 = part0.getElementsByClass(stream.Measure).stream()\n",
    "measures1 = part1.getElementsByClass(stream.Measure).stream()\n",
    "print('Measures in part 0:', len(measures0))\n",
    "print('Measures in part 1:', len(measures1))"
   ]
  },
  {
   "cell_type": "markdown",
   "metadata": {},
   "source": [
    "Let's confirm that we retrieved only measures."
   ]
  },
  {
   "cell_type": "code",
   "execution_count": 10,
   "metadata": {
    "scrolled": true
   },
   "outputs": [
    {
     "data": {
      "text/plain": [
       "(<music21.stream.Measure 0 offset=0.0>,\n",
       " <music21.stream.Measure 1 offset=0.5>,\n",
       " <music21.stream.Measure 2 offset=2.5>,\n",
       " <music21.stream.Measure 3 offset=4.5>,\n",
       " <music21.stream.Measure 4 offset=6.5>,\n",
       " <music21.stream.Measure 5 offset=8.5>,\n",
       " <music21.stream.Measure 6 offset=10.5>,\n",
       " <music21.stream.Measure 7 offset=12.5>,\n",
       " <music21.stream.Measure 8 offset=14.5>,\n",
       " <music21.stream.Measure 9 offset=16.5>,\n",
       " <music21.stream.Measure 10 offset=18.5>,\n",
       " <music21.stream.Measure 11 offset=20.5>,\n",
       " <music21.stream.Measure 12 offset=22.5>,\n",
       " <music21.stream.Measure 13 offset=24.5>,\n",
       " <music21.stream.Measure 14 offset=26.5>,\n",
       " <music21.stream.Measure 15 offset=28.5>,\n",
       " <music21.stream.Measure 16 offset=30.5>,\n",
       " <music21.stream.Measure 17 offset=32.5>,\n",
       " <music21.stream.Measure 18 offset=34.5>,\n",
       " <music21.stream.Measure 19 offset=36.5>,\n",
       " <music21.stream.Measure 20 offset=38.5>,\n",
       " <music21.stream.Measure 21 offset=40.5>,\n",
       " <music21.stream.Measure 22 offset=42.5>,\n",
       " <music21.stream.Measure 23 offset=44.5>,\n",
       " <music21.stream.Measure 24 offset=46.5>,\n",
       " <music21.stream.Measure 25 offset=48.5>,\n",
       " <music21.stream.Measure 26 offset=50.5>,\n",
       " <music21.stream.Measure 27 offset=52.5>,\n",
       " <music21.stream.Measure 28 offset=54.5>,\n",
       " <music21.stream.Measure 29 offset=56.5>,\n",
       " <music21.stream.Measure 30 offset=58.5>,\n",
       " <music21.stream.Measure 31 offset=60.5>,\n",
       " <music21.stream.Measure 32 offset=62.5>,\n",
       " <music21.stream.Measure 33 offset=64.5>,\n",
       " <music21.stream.Measure 34 offset=66.5>,\n",
       " <music21.stream.Measure 35 offset=68.5>,\n",
       " <music21.stream.Measure 36 offset=70.5>,\n",
       " <music21.stream.Measure 37 offset=72.5>,\n",
       " <music21.stream.Measure 38 offset=74.5>,\n",
       " <music21.stream.Measure 39 offset=76.5>,\n",
       " <music21.stream.Measure 40 offset=78.5>,\n",
       " <music21.stream.Measure 41 offset=80.5>,\n",
       " <music21.stream.Measure 42 offset=82.5>,\n",
       " <music21.stream.Measure 43 offset=84.5>,\n",
       " <music21.stream.Measure 44 offset=86.5>,\n",
       " <music21.stream.Measure 45 offset=88.5>,\n",
       " <music21.stream.Measure 46 offset=90.5>,\n",
       " <music21.stream.Measure 47 offset=92.5>,\n",
       " <music21.stream.Measure 48 offset=94.5>,\n",
       " <music21.stream.Measure 49 offset=96.5>,\n",
       " <music21.stream.Measure 50 offset=98.5>,\n",
       " <music21.stream.Measure 51 offset=100.5>,\n",
       " <music21.stream.Measure 52 offset=102.5>,\n",
       " <music21.stream.Measure 53 offset=104.5>,\n",
       " <music21.stream.Measure 54 offset=106.5>,\n",
       " <music21.stream.Measure 55 offset=108.5>,\n",
       " <music21.stream.Measure 56 offset=110.5>,\n",
       " <music21.stream.Measure 57 offset=112.5>,\n",
       " <music21.stream.Measure 58 offset=114.5>,\n",
       " <music21.stream.Measure 59 offset=116.5>,\n",
       " <music21.stream.Measure 60 offset=118.5>,\n",
       " <music21.stream.Measure 61 offset=120.5>,\n",
       " <music21.stream.Measure 62 offset=122.5>,\n",
       " <music21.stream.Measure 63 offset=124.5>,\n",
       " <music21.stream.Measure 64 offset=126.5>,\n",
       " <music21.stream.Measure 65 offset=128.5>,\n",
       " <music21.stream.Measure 66 offset=130.5>,\n",
       " <music21.stream.Measure 67 offset=132.5>,\n",
       " <music21.stream.Measure 68 offset=134.5>,\n",
       " <music21.stream.Measure 69 offset=136.5>,\n",
       " <music21.stream.Measure 70 offset=138.5>,\n",
       " <music21.stream.Measure 71 offset=140.5>,\n",
       " <music21.stream.Measure 72 offset=142.5>,\n",
       " <music21.stream.Measure 73 offset=144.5>,\n",
       " <music21.stream.Measure 74 offset=146.5>,\n",
       " <music21.stream.Measure 75 offset=148.5>,\n",
       " <music21.stream.Measure 76 offset=150.5>,\n",
       " <music21.stream.Measure 77 offset=152.5>,\n",
       " <music21.stream.Measure 78 offset=154.5>,\n",
       " <music21.stream.Measure 79 offset=156.5>,\n",
       " <music21.stream.Measure 80 offset=158.5>,\n",
       " <music21.stream.Measure 81 offset=160.5>,\n",
       " <music21.stream.Measure 82 offset=162.5>,\n",
       " <music21.stream.Measure 83 offset=164.5>,\n",
       " <music21.stream.Measure 84 offset=166.5>)"
      ]
     },
     "execution_count": 10,
     "metadata": {},
     "output_type": "execute_result"
    }
   ],
   "source": [
    "measures0.elements"
   ]
  },
  {
   "cell_type": "markdown",
   "metadata": {},
   "source": [
    "As you can see, each measure is identify by a number, and also an offset. The concept of **offset** is very important in music21. Every music21 object is stored in a particular position with respect to its containing stream.\n",
    "<br/>\n",
    "Let's check that with the first 10 measures."
   ]
  },
  {
   "cell_type": "code",
   "execution_count": 11,
   "metadata": {},
   "outputs": [
    {
     "name": "stdout",
     "output_type": "stream",
     "text": [
      "Measure number: 0 \tMeasure offset: 0.0\n",
      "Measure number: 1 \tMeasure offset: 0.5\n",
      "Measure number: 2 \tMeasure offset: 2.5\n",
      "Measure number: 3 \tMeasure offset: 4.5\n",
      "Measure number: 4 \tMeasure offset: 6.5\n",
      "Measure number: 5 \tMeasure offset: 8.5\n",
      "Measure number: 6 \tMeasure offset: 10.5\n",
      "Measure number: 7 \tMeasure offset: 12.5\n",
      "Measure number: 8 \tMeasure offset: 14.5\n",
      "Measure number: 9 \tMeasure offset: 16.5\n"
     ]
    }
   ],
   "source": [
    "for m in measures0[0:10]:\n",
    "    print('Measure number:', m.number, '\\tMeasure offset:', m.offset)\n",
    "# offset -> quarter note after beginning "
   ]
  },
  {
   "cell_type": "markdown",
   "metadata": {},
   "source": [
    "Now let's have a look to what is contained in the first measure of the first part."
   ]
  },
  {
   "cell_type": "code",
   "execution_count": 12,
   "metadata": {},
   "outputs": [
    {
     "data": {
      "text/plain": [
       "(<music21.layout.SystemLayout>,\n",
       " <music21.clef.TrebleClef>,\n",
       " <music21.key.KeySignature of 4 sharps>,\n",
       " <music21.meter.TimeSignature 2/4>,\n",
       " <music21.note.Note C#>)"
      ]
     },
     "execution_count": 12,
     "metadata": {},
     "output_type": "execute_result"
    }
   ],
   "source": [
    "measure0_0 = measures0[0]\n",
    "measure0_0.elements"
   ]
  },
  {
   "cell_type": "markdown",
   "metadata": {},
   "source": [
    "The first measure of a part usually contains the clef, key signature and time signature objects.\n",
    "<br/>\n",
    "Let's have a look to what kind of information we can obtaine about the key signature and the time signature."
   ]
  },
  {
   "cell_type": "code",
   "execution_count": 13,
   "metadata": {},
   "outputs": [
    {
     "name": "stdout",
     "output_type": "stream",
     "text": [
      "<class 'music21.key.KeySignature'>\n",
      "Number of altered pitches: 4\n",
      "List of altered pitches: [<music21.pitch.Pitch F#>, <music21.pitch.Pitch C#>, <music21.pitch.Pitch G#>, <music21.pitch.Pitch D#>]\n",
      "Measure number: 0\n",
      "Offset: 0.0\n"
     ]
    }
   ],
   "source": [
    "kS = measure0_0.getElementsByClass(key.KeySignature).stream()[0]\n",
    "print(type(kS))\n",
    "print('Number of altered pitches:', kS.sharps)\n",
    "print('List of altered pitches:', kS.alteredPitches)\n",
    "print('Measure number:', kS.measureNumber)\n",
    "print('Offset:', kS.offset)"
   ]
  },
  {
   "cell_type": "code",
   "execution_count": 14,
   "metadata": {},
   "outputs": [
    {
     "name": "stdout",
     "output_type": "stream",
     "text": [
      "<class 'music21.meter.TimeSignature'>\n",
      "Numerator: 2\n",
      "Denominator: 4\n",
      "Measure number: 0\n",
      "Offset: 0.0\n"
     ]
    }
   ],
   "source": [
    "tS = measure0_0.getElementsByClass(meter.TimeSignature).stream()[0]\n",
    "print(type(tS))\n",
    "print('Numerator:', tS.numerator)\n",
    "print('Denominator:', tS.denominator)\n",
    "print('Measure number:', tS.measureNumber)\n",
    "print('Offset:', tS.offset)"
   ]
  },
  {
   "cell_type": "markdown",
   "metadata": {},
   "source": [
    "Moving to another measure."
   ]
  },
  {
   "cell_type": "code",
   "execution_count": 15,
   "metadata": {},
   "outputs": [
    {
     "name": "stdout",
     "output_type": "stream",
     "text": [
      "Measure number 3 in offset 4.5\n",
      "\n",
      "It contains the following elements:\n",
      "<music21.note.Note F#>\n",
      "<music21.note.Note A>\n",
      "<music21.note.Note B>\n",
      "<music21.note.Note G#>\n",
      "<music21.note.Note F#>\n",
      "<music21.note.Note D#>\n",
      "<music21.note.Note C#>\n"
     ]
    }
   ],
   "source": [
    "measure0_3 = part0.measure(3)\n",
    "print('Measure number {} in offset {}'.format(measure0_3.number, measure0_3.offset))\n",
    "print()\n",
    "print('It contains the following elements:')\n",
    "for element in measure0_3.elements:\n",
    "    print(element)"
   ]
  },
  {
   "cell_type": "markdown",
   "metadata": {},
   "source": [
    "This is the most common case, measures usually contain only notes (including rests).\n",
    "\n",
    "Now, let's start working with note objects. They also have offsets, and we can check if they are a note or a rest."
   ]
  },
  {
   "cell_type": "code",
   "execution_count": 16,
   "metadata": {},
   "outputs": [
    {
     "name": "stdout",
     "output_type": "stream",
     "text": [
      "<class 'music21.note.Note'>\n",
      "Measure number: 3\n",
      "Note offset: 0.0\n",
      "Is it a note? True\n",
      "Is it a rest? False\n"
     ]
    }
   ],
   "source": [
    "n1 = measure0_3[0]\n",
    "print(type(n1))\n",
    "print('Measure number:', n1.measureNumber)\n",
    "print('Note offset:', n1.offset)\n",
    "print('Is it a note?', n1.isNote)\n",
    "print('Is it a rest?', n1.isRest)"
   ]
  },
  {
   "cell_type": "markdown",
   "metadata": {},
   "source": [
    "Notice that the note's offset is related to its containing stream, measure 3, and not to the whole score.\n",
    "\n",
    "A note object, when it is a note, contains a pitch object and a duration object.\n",
    "<br/>\n",
    "Let's have a look first to the attributes of the pitch object contained in `n1`."
   ]
  },
  {
   "cell_type": "code",
   "execution_count": 24,
   "metadata": {},
   "outputs": [
    {
     "name": "stdout",
     "output_type": "stream",
     "text": [
      "Frequency: 369.99442271163434\n",
      "Name: F#\n",
      "Step: F\n",
      "Octave: 4\n",
      "Name with octave: F#4\n",
      "Midi: 66\n",
      "Name in Spanish: fa sostenido\n",
      "\n",
      "Accidental: sharp\n",
      "Accidental value: 1.0\n"
     ]
    }
   ],
   "source": [
    "print('Frequency:', n1.pitch.frequency)\n",
    "print('Name:', n1.pitch.name)\n",
    "print('Step:', n1.pitch.step)\n",
    "print('Octave:', n1.pitch.octave)\n",
    "print('Name with octave:', n1.pitch.nameWithOctave)\n",
    "print('Midi:', n1.pitch.midi)\n",
    "print('Name in Spanish:', n1.pitch.spanish)\n",
    "print()\n",
    "print('Accidental:', n1.pitch.accidental.name)\n",
    "print('Accidental value:', n1.pitch.accidental.alter)"
   ]
  },
  {
   "cell_type": "markdown",
   "metadata": {},
   "source": [
    "Let's have a look now to the attributes of the duration object contained in `n1`."
   ]
  },
  {
   "cell_type": "code",
   "execution_count": 25,
   "metadata": {},
   "outputs": [
    {
     "name": "stdout",
     "output_type": "stream",
     "text": [
      "Duration type: eighth\n",
      "Duration name: Eighth\n",
      "Duration as quarter length: 0.5\n"
     ]
    }
   ],
   "source": [
    "print('Duration type:', n1.duration.type)\n",
    "print('Duration name:', n1.duration.fullName)\n",
    "print('Duration as quarter length:', n1.duration.quarterLength)"
   ]
  },
  {
   "cell_type": "markdown",
   "metadata": {},
   "source": [
    "Some of this information is very commonly used, so it can be retrieved directly from the note object."
   ]
  },
  {
   "cell_type": "code",
   "execution_count": 26,
   "metadata": {},
   "outputs": [
    {
     "name": "stdout",
     "output_type": "stream",
     "text": [
      "Name: F#\n",
      "Step: F\n",
      "Octave: 4\n",
      "Name with octave: F#4\n",
      "\n",
      "Duration as quarter length: 0.5\n"
     ]
    }
   ],
   "source": [
    "print('Name:', n1.name)\n",
    "print('Step:', n1.step)\n",
    "print('Octave:', n1.octave)\n",
    "print('Name with octave:', n1.nameWithOctave)\n",
    "print()\n",
    "print('Duration as quarter length:', n1.quarterLength)"
   ]
  },
  {
   "cell_type": "markdown",
   "metadata": {},
   "source": [
    "[Grace notes](https://en.wikipedia.org/wiki/Grace_note) are assigned a `quarterLength` duration of 0, and are located in the same offset as the following main note."
   ]
  },
  {
   "cell_type": "code",
   "execution_count": 27,
   "metadata": {},
   "outputs": [
    {
     "name": "stdout",
     "output_type": "stream",
     "text": [
      "Name:\t\t A4 \t B4\n",
      "Duration:\t 0.0 \t 0.5\n",
      "Offset:\t\t 0.5 \t 0.5\n"
     ]
    }
   ],
   "source": [
    "n2 = measure0_3[1]\n",
    "n3 = measure0_3[2]\n",
    "print('Name:\\t\\t', n2.nameWithOctave, '\\t', n3.nameWithOctave)\n",
    "print('Duration:\\t', n2.quarterLength, '\\t', n3.quarterLength)\n",
    "print('Offset:\\t\\t', n2.offset, '\\t', n3.offset)"
   ]
  },
  {
   "cell_type": "markdown",
   "metadata": {},
   "source": [
    "Let's take now a note from the second part."
   ]
  },
  {
   "cell_type": "code",
   "execution_count": 28,
   "metadata": {},
   "outputs": [
    {
     "name": "stdout",
     "output_type": "stream",
     "text": [
      "Name: F#4\n",
      "Duration: 0.5\n"
     ]
    }
   ],
   "source": [
    "measure1_9 = part1.measure(9)\n",
    "n4 = measure1_9[0]\n",
    "print('Name:', n4.nameWithOctave)\n",
    "print('Duration:', n4.quarterLength)"
   ]
  },
  {
   "cell_type": "markdown",
   "metadata": {},
   "source": [
    "With the `.lyric` attribute we can check if a note object contains lyrics."
   ]
  },
  {
   "cell_type": "code",
   "execution_count": 29,
   "metadata": {},
   "outputs": [
    {
     "name": "stdout",
     "output_type": "stream",
     "text": [
      "Does n1 have lyrics? False\n",
      "Does n4 have lyrics? True\n"
     ]
    }
   ],
   "source": [
    "print('Does n1 have lyrics?', n1.lyric != None)\n",
    "print('Does n4 have lyrics?', n4.lyric != None)"
   ]
  },
  {
   "cell_type": "markdown",
   "metadata": {},
   "source": [
    "`n4` contains lyrics. Now we can look at it."
   ]
  },
  {
   "cell_type": "code",
   "execution_count": 30,
   "metadata": {},
   "outputs": [
    {
     "name": "stdout",
     "output_type": "stream",
     "text": [
      "n4's lyric: 为\n"
     ]
    }
   ],
   "source": [
    "print(\"n4's lyric:\", n4.lyric)"
   ]
  },
  {
   "cell_type": "markdown",
   "metadata": {},
   "source": [
    "Duration can be extended using dots and ties. Music21 handels them in the following ways."
   ]
  },
  {
   "cell_type": "code",
   "execution_count": 31,
   "metadata": {},
   "outputs": [
    {
     "name": "stdout",
     "output_type": "stream",
     "text": [
      "Duration: 0.375\n",
      "Duration type: 16th\n",
      "Duration name: Dotted 16th\n",
      "Duration as quarter length: 0.375\n",
      "Dots: 1\n"
     ]
    }
   ],
   "source": [
    "n5 = measure1_9[1]\n",
    "print('Duration:', n5.quarterLength)\n",
    "print('Duration type:', n5.duration.type)\n",
    "print('Duration name:', n5.duration.fullName)\n",
    "print('Duration as quarter length:', n5.duration.quarterLength)\n",
    "print('Dots:', n5.duration.dots)"
   ]
  },
  {
   "cell_type": "code",
   "execution_count": 32,
   "metadata": {},
   "outputs": [
    {
     "name": "stdout",
     "output_type": "stream",
     "text": [
      "Pitch name:\t E4 \t E4\n",
      "Duration:\t 0.5 \t 0.5\n",
      "Tie:\t\t start \t stop\n"
     ]
    }
   ],
   "source": [
    "measure1_20 = part1.measure(20)\n",
    "measure1_21 = part1.measure(21)\n",
    "n6 = measure1_20[-1]\n",
    "n7 = measure1_21[2]\n",
    "print('Pitch name:\\t', n6.nameWithOctave, '\\t', n7.nameWithOctave)\n",
    "print('Duration:\\t', n6.quarterLength, '\\t', n7.quarterLength)\n",
    "print('Tie:\\t\\t', n6.tie.type, '\\t', n7.tie.type)"
   ]
  }
 ],
 "metadata": {
  "kernelspec": {
   "display_name": "Python 3",
   "language": "python",
   "name": "python3"
  },
  "language_info": {
   "codemirror_mode": {
    "name": "ipython",
    "version": 3
   },
   "file_extension": ".py",
   "mimetype": "text/x-python",
   "name": "python",
   "nbconvert_exporter": "python",
   "pygments_lexer": "ipython3",
   "version": "3.7.3"
  }
 },
 "nbformat": 4,
 "nbformat_minor": 2
}
